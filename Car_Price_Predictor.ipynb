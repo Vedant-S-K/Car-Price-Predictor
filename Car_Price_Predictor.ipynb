{
  "nbformat": 4,
  "nbformat_minor": 0,
  "metadata": {
    "colab": {
      "name": "Car_Price_Predictor.ipynb",
      "provenance": []
    },
    "kernelspec": {
      "name": "python3",
      "display_name": "Python 3"
    },
    "language_info": {
      "name": "python"
    }
  },
  "cells": [
    {
      "cell_type": "markdown",
      "metadata": {
        "id": "Kjn8piaKlcD3"
      },
      "source": [
        "###**Mounting the Google drive to load our dataset file 🠗**"
      ]
    },
    {
      "cell_type": "code",
      "metadata": {
        "colab": {
          "base_uri": "https://localhost:8080/"
        },
        "id": "HdouDp1ilHUM",
        "outputId": "64cb854e-9a3f-4786-e4ba-06a7d39b62fa"
      },
      "source": [
        "from google.colab import drive\n",
        "\n",
        "drive.mount('/content/drive')"
      ],
      "execution_count": null,
      "outputs": [
        {
          "output_type": "stream",
          "text": [
            "Mounted at /content/drive\n"
          ],
          "name": "stdout"
        }
      ]
    },
    {
      "cell_type": "markdown",
      "metadata": {
        "id": "aLqZurFZloMy"
      },
      "source": [
        "###**Importing necessary librabries**"
      ]
    },
    {
      "cell_type": "code",
      "metadata": {
        "id": "10XkCNYYkxHk"
      },
      "source": [
        "import numpy as np\n",
        "import pandas as pd\n",
        "import matplotlib.pyplot as plt\n",
        "import seaborn as sns\n",
        "sns.set_theme()\n",
        "%matplotlib  inline\n",
        "\n",
        "from sklearn.metrics import r2_score\n",
        "\n",
        "import warnings\n",
        "warnings.filterwarnings('ignore')"
      ],
      "execution_count": null,
      "outputs": []
    },
    {
      "cell_type": "markdown",
      "metadata": {
        "id": "iDDM926Jltry"
      },
      "source": [
        "##**Reading the CSV file**"
      ]
    },
    {
      "cell_type": "code",
      "metadata": {
        "colab": {
          "base_uri": "https://localhost:8080/",
          "height": 203
        },
        "id": "4o4b6EmRlwlX",
        "outputId": "90aa862d-f074-4da3-f48c-15dc4088bd62"
      },
      "source": [
        "path = \"/content/drive/MyDrive/Project/quikr_car.csv\"\n",
        "car = pd.read_csv(path)\n",
        "car.head()"
      ],
      "execution_count": null,
      "outputs": [
        {
          "output_type": "execute_result",
          "data": {
            "text/html": [
              "<div>\n",
              "<style scoped>\n",
              "    .dataframe tbody tr th:only-of-type {\n",
              "        vertical-align: middle;\n",
              "    }\n",
              "\n",
              "    .dataframe tbody tr th {\n",
              "        vertical-align: top;\n",
              "    }\n",
              "\n",
              "    .dataframe thead th {\n",
              "        text-align: right;\n",
              "    }\n",
              "</style>\n",
              "<table border=\"1\" class=\"dataframe\">\n",
              "  <thead>\n",
              "    <tr style=\"text-align: right;\">\n",
              "      <th></th>\n",
              "      <th>name</th>\n",
              "      <th>company</th>\n",
              "      <th>year</th>\n",
              "      <th>Price</th>\n",
              "      <th>kms_driven</th>\n",
              "      <th>fuel_type</th>\n",
              "    </tr>\n",
              "  </thead>\n",
              "  <tbody>\n",
              "    <tr>\n",
              "      <th>0</th>\n",
              "      <td>Hyundai Santro Xing XO eRLX Euro III</td>\n",
              "      <td>Hyundai</td>\n",
              "      <td>2007</td>\n",
              "      <td>80,000</td>\n",
              "      <td>45,000 kms</td>\n",
              "      <td>Petrol</td>\n",
              "    </tr>\n",
              "    <tr>\n",
              "      <th>1</th>\n",
              "      <td>Mahindra Jeep CL550 MDI</td>\n",
              "      <td>Mahindra</td>\n",
              "      <td>2006</td>\n",
              "      <td>4,25,000</td>\n",
              "      <td>40 kms</td>\n",
              "      <td>Diesel</td>\n",
              "    </tr>\n",
              "    <tr>\n",
              "      <th>2</th>\n",
              "      <td>Maruti Suzuki Alto 800 Vxi</td>\n",
              "      <td>Maruti</td>\n",
              "      <td>2018</td>\n",
              "      <td>Ask For Price</td>\n",
              "      <td>22,000 kms</td>\n",
              "      <td>Petrol</td>\n",
              "    </tr>\n",
              "    <tr>\n",
              "      <th>3</th>\n",
              "      <td>Hyundai Grand i10 Magna 1.2 Kappa VTVT</td>\n",
              "      <td>Hyundai</td>\n",
              "      <td>2014</td>\n",
              "      <td>3,25,000</td>\n",
              "      <td>28,000 kms</td>\n",
              "      <td>Petrol</td>\n",
              "    </tr>\n",
              "    <tr>\n",
              "      <th>4</th>\n",
              "      <td>Ford EcoSport Titanium 1.5L TDCi</td>\n",
              "      <td>Ford</td>\n",
              "      <td>2014</td>\n",
              "      <td>5,75,000</td>\n",
              "      <td>36,000 kms</td>\n",
              "      <td>Diesel</td>\n",
              "    </tr>\n",
              "  </tbody>\n",
              "</table>\n",
              "</div>"
            ],
            "text/plain": [
              "                                     name   company  ...  kms_driven fuel_type\n",
              "0    Hyundai Santro Xing XO eRLX Euro III   Hyundai  ...  45,000 kms    Petrol\n",
              "1                 Mahindra Jeep CL550 MDI  Mahindra  ...      40 kms    Diesel\n",
              "2              Maruti Suzuki Alto 800 Vxi    Maruti  ...  22,000 kms    Petrol\n",
              "3  Hyundai Grand i10 Magna 1.2 Kappa VTVT   Hyundai  ...  28,000 kms    Petrol\n",
              "4        Ford EcoSport Titanium 1.5L TDCi      Ford  ...  36,000 kms    Diesel\n",
              "\n",
              "[5 rows x 6 columns]"
            ]
          },
          "metadata": {},
          "execution_count": 3
        }
      ]
    },
    {
      "cell_type": "code",
      "metadata": {
        "colab": {
          "base_uri": "https://localhost:8080/"
        },
        "id": "eeMabLxBmBbY",
        "outputId": "fbe9ea09-b691-4ae3-f296-98e39a66a879"
      },
      "source": [
        "car.shape"
      ],
      "execution_count": null,
      "outputs": [
        {
          "output_type": "execute_result",
          "data": {
            "text/plain": [
              "(892, 6)"
            ]
          },
          "metadata": {},
          "execution_count": 4
        }
      ]
    },
    {
      "cell_type": "markdown",
      "metadata": {
        "id": "qNtevYVJmI1x"
      },
      "source": [
        "We have 892 rows and 6 columns"
      ]
    },
    {
      "cell_type": "code",
      "metadata": {
        "colab": {
          "base_uri": "https://localhost:8080/"
        },
        "id": "yoJUyQzNmNp7",
        "outputId": "83f3d00d-8a94-42f7-e8bf-6279b4449c6e"
      },
      "source": [
        "car.info()"
      ],
      "execution_count": null,
      "outputs": [
        {
          "output_type": "stream",
          "text": [
            "<class 'pandas.core.frame.DataFrame'>\n",
            "RangeIndex: 892 entries, 0 to 891\n",
            "Data columns (total 6 columns):\n",
            " #   Column      Non-Null Count  Dtype \n",
            "---  ------      --------------  ----- \n",
            " 0   name        892 non-null    object\n",
            " 1   company     892 non-null    object\n",
            " 2   year        892 non-null    object\n",
            " 3   Price       892 non-null    object\n",
            " 4   kms_driven  840 non-null    object\n",
            " 5   fuel_type   837 non-null    object\n",
            "dtypes: object(6)\n",
            "memory usage: 41.9+ KB\n"
          ],
          "name": "stdout"
        }
      ]
    },
    {
      "cell_type": "markdown",
      "metadata": {
        "id": "iitxUb2bmUf3"
      },
      "source": [
        "All the columns are of object data type."
      ]
    },
    {
      "cell_type": "markdown",
      "metadata": {
        "id": "6AOscekunjuU"
      },
      "source": [
        "###**Quality of data ->**\n",
        "*   names are pretty inconsistent\n",
        "*   names have company names attached to it\n",
        "*   some names are spam like 'Maruti Ertiga showroom condition with' and 'Well mentained Tata Sumo'\n",
        "*   company: many of the names are not of any company like 'Used', 'URJENT', and so on.\n",
        "*   year has many non-year values\n",
        "*   year is in object. Change to integer\n",
        "*   Price has Ask for Price\n",
        "*   Price has commas in its prices and is in object\n",
        "*   kms_driven has object values with kms at last.\n",
        "*   It has nan values and two rows have 'Petrol' in them\n",
        "*   fuel_type has nan values\n",
        "\n",
        "\n"
      ]
    },
    {
      "cell_type": "markdown",
      "metadata": {
        "id": "fmrCOwdeo344"
      },
      "source": [
        "##**Data_preprocessing/cleaning**"
      ]
    },
    {
      "cell_type": "code",
      "metadata": {
        "colab": {
          "base_uri": "https://localhost:8080/"
        },
        "id": "O414HjkomZrk",
        "outputId": "7c698e06-390b-4770-accc-b313f23d77a4"
      },
      "source": [
        " car['year'].str.isnumeric().sum()"
      ],
      "execution_count": null,
      "outputs": [
        {
          "output_type": "execute_result",
          "data": {
            "text/plain": [
              "842"
            ]
          },
          "metadata": {},
          "execution_count": 6
        }
      ]
    },
    {
      "cell_type": "markdown",
      "metadata": {
        "id": "bkExV5_epznc"
      },
      "source": [
        "Out of 892 rows 842 rows has numeric values present in year's columns, so we will filter out rows with numeric columns."
      ]
    },
    {
      "cell_type": "code",
      "metadata": {
        "id": "dnqSNNaOptYE"
      },
      "source": [
        "car = car[car['year'].str.isnumeric()]"
      ],
      "execution_count": null,
      "outputs": []
    },
    {
      "cell_type": "code",
      "metadata": {
        "id": "Fegw3VDWqGGz"
      },
      "source": [
        "car['year'] = car['year'].astype(int)"
      ],
      "execution_count": null,
      "outputs": []
    },
    {
      "cell_type": "code",
      "metadata": {
        "colab": {
          "base_uri": "https://localhost:8080/"
        },
        "id": "iifGIZPZqQWi",
        "outputId": "c2928b0b-b05b-4279-dd88-f2dc6346a9d4"
      },
      "source": [
        "car.info()"
      ],
      "execution_count": null,
      "outputs": [
        {
          "output_type": "stream",
          "text": [
            "<class 'pandas.core.frame.DataFrame'>\n",
            "Int64Index: 842 entries, 0 to 891\n",
            "Data columns (total 6 columns):\n",
            " #   Column      Non-Null Count  Dtype \n",
            "---  ------      --------------  ----- \n",
            " 0   name        842 non-null    object\n",
            " 1   company     842 non-null    object\n",
            " 2   year        842 non-null    int64 \n",
            " 3   Price       842 non-null    object\n",
            " 4   kms_driven  840 non-null    object\n",
            " 5   fuel_type   837 non-null    object\n",
            "dtypes: int64(1), object(5)\n",
            "memory usage: 46.0+ KB\n"
          ],
          "name": "stdout"
        }
      ]
    },
    {
      "cell_type": "code",
      "metadata": {
        "id": "WBv2BQAqqV3J"
      },
      "source": [
        "car = car[car['Price']!='Ask For Price']"
      ],
      "execution_count": null,
      "outputs": []
    },
    {
      "cell_type": "markdown",
      "metadata": {
        "id": "flMcWqnRrPg0"
      },
      "source": [
        "Filtered out rows with price set as = Ask For Price"
      ]
    },
    {
      "cell_type": "code",
      "metadata": {
        "id": "sVfzLpf7rU0P"
      },
      "source": [
        "car['Price' ]= car['Price'].str.replace(',','').astype(int)"
      ],
      "execution_count": null,
      "outputs": []
    },
    {
      "cell_type": "code",
      "metadata": {
        "colab": {
          "base_uri": "https://localhost:8080/"
        },
        "id": "2EIcCHMLsolQ",
        "outputId": "5bfb4170-168d-43b9-88b8-a480f71c3e32"
      },
      "source": [
        "car.info()"
      ],
      "execution_count": null,
      "outputs": [
        {
          "output_type": "stream",
          "text": [
            "<class 'pandas.core.frame.DataFrame'>\n",
            "Int64Index: 819 entries, 0 to 891\n",
            "Data columns (total 6 columns):\n",
            " #   Column      Non-Null Count  Dtype \n",
            "---  ------      --------------  ----- \n",
            " 0   name        819 non-null    object\n",
            " 1   company     819 non-null    object\n",
            " 2   year        819 non-null    int64 \n",
            " 3   Price       819 non-null    int64 \n",
            " 4   kms_driven  819 non-null    object\n",
            " 5   fuel_type   816 non-null    object\n",
            "dtypes: int64(2), object(4)\n",
            "memory usage: 44.8+ KB\n"
          ],
          "name": "stdout"
        }
      ]
    },
    {
      "cell_type": "code",
      "metadata": {
        "colab": {
          "base_uri": "https://localhost:8080/"
        },
        "id": "X6DzMPe5udG3",
        "outputId": "fa8891a7-202b-480c-d0ba-aff92d501ade"
      },
      "source": [
        "car['kms_driven'].str.split(' ')"
      ],
      "execution_count": null,
      "outputs": [
        {
          "output_type": "execute_result",
          "data": {
            "text/plain": [
              "0        [45,000, kms]\n",
              "1            [40, kms]\n",
              "3        [28,000, kms]\n",
              "4        [36,000, kms]\n",
              "6        [41,000, kms]\n",
              "            ...       \n",
              "886    [1,32,000, kms]\n",
              "888      [27,000, kms]\n",
              "889      [40,000, kms]\n",
              "890           [Petrol]\n",
              "891           [Petrol]\n",
              "Name: kms_driven, Length: 819, dtype: object"
            ]
          },
          "metadata": {},
          "execution_count": 13
        }
      ]
    },
    {
      "cell_type": "markdown",
      "metadata": {
        "id": "suqCtAcXuprg"
      },
      "source": [
        "Here we have split the numeric and kms , now we will extract numeric value from it\n"
      ]
    },
    {
      "cell_type": "code",
      "metadata": {
        "id": "F429eFQmu22a"
      },
      "source": [
        "car['kms_driven'] = car['kms_driven'].str.split(' ').str.get(0).str.replace(',','')"
      ],
      "execution_count": null,
      "outputs": []
    },
    {
      "cell_type": "code",
      "metadata": {
        "colab": {
          "base_uri": "https://localhost:8080/"
        },
        "id": "Ppa70VSdvbpy",
        "outputId": "34a359cf-d246-49c5-c644-32f1de86f247"
      },
      "source": [
        "car['kms_driven']"
      ],
      "execution_count": null,
      "outputs": [
        {
          "output_type": "execute_result",
          "data": {
            "text/plain": [
              "0       45000\n",
              "1          40\n",
              "3       28000\n",
              "4       36000\n",
              "6       41000\n",
              "        ...  \n",
              "886    132000\n",
              "888     27000\n",
              "889     40000\n",
              "890    Petrol\n",
              "891    Petrol\n",
              "Name: kms_driven, Length: 819, dtype: object"
            ]
          },
          "metadata": {},
          "execution_count": 15
        }
      ]
    },
    {
      "cell_type": "markdown",
      "metadata": {
        "id": "NKDYbugDvgyJ"
      },
      "source": [
        "Here we can see we have values = Petrol assigned to some rows so we will now filter out rows with only numeric values"
      ]
    },
    {
      "cell_type": "code",
      "metadata": {
        "id": "X9VeXBsKvw55"
      },
      "source": [
        "car = car[car['kms_driven'].str.isnumeric()]"
      ],
      "execution_count": null,
      "outputs": []
    },
    {
      "cell_type": "code",
      "metadata": {
        "id": "IjiYOHQPwDBz"
      },
      "source": [
        "car['kms_driven'] = car['kms_driven'].astype(int)"
      ],
      "execution_count": null,
      "outputs": []
    },
    {
      "cell_type": "code",
      "metadata": {
        "colab": {
          "base_uri": "https://localhost:8080/"
        },
        "id": "yNhT3c0Ov9NN",
        "outputId": "195215d9-bfe6-4ab7-e72c-13afbe20bf96"
      },
      "source": [
        "car.info()"
      ],
      "execution_count": null,
      "outputs": [
        {
          "output_type": "stream",
          "text": [
            "<class 'pandas.core.frame.DataFrame'>\n",
            "Int64Index: 817 entries, 0 to 889\n",
            "Data columns (total 6 columns):\n",
            " #   Column      Non-Null Count  Dtype \n",
            "---  ------      --------------  ----- \n",
            " 0   name        817 non-null    object\n",
            " 1   company     817 non-null    object\n",
            " 2   year        817 non-null    int64 \n",
            " 3   Price       817 non-null    int64 \n",
            " 4   kms_driven  817 non-null    int64 \n",
            " 5   fuel_type   816 non-null    object\n",
            "dtypes: int64(3), object(3)\n",
            "memory usage: 44.7+ KB\n"
          ],
          "name": "stdout"
        }
      ]
    },
    {
      "cell_type": "code",
      "metadata": {
        "id": "FKyKj_OFwSMe"
      },
      "source": [
        "car = car[~car['fuel_type'].isna()]"
      ],
      "execution_count": null,
      "outputs": []
    },
    {
      "cell_type": "markdown",
      "metadata": {
        "id": "3IV-k3tywtQx"
      },
      "source": [
        "~ = this symbol means excluding rows with nan values it get all other rows\n",
        "\n",
        "basically we are dropping the rows with nan values"
      ]
    },
    {
      "cell_type": "code",
      "metadata": {
        "colab": {
          "base_uri": "https://localhost:8080/"
        },
        "id": "pDkfFhuVxtzK",
        "outputId": "47bd7e86-8b02-4e0f-986c-19d35a01bdae"
      },
      "source": [
        "car['name'].str.split(' ')"
      ],
      "execution_count": null,
      "outputs": [
        {
          "output_type": "execute_result",
          "data": {
            "text/plain": [
              "0        [Hyundai, Santro, Xing, XO, eRLX, Euro, III]\n",
              "1                        [Mahindra, Jeep, CL550, MDI]\n",
              "3      [Hyundai, Grand, i10, Magna, 1.2, Kappa, VTVT]\n",
              "4              [Ford, EcoSport, Titanium, 1.5L, TDCi]\n",
              "6                                        [Ford, Figo]\n",
              "                            ...                      \n",
              "883                  [Maruti, Suzuki, Ritz, VXI, ABS]\n",
              "885                  [Tata, Indica, V2, DLE, BS, III]\n",
              "886                          [Toyota, Corolla, Altis]\n",
              "888                          [Tata, Zest, XM, Diesel]\n",
              "889                            [Mahindra, Quanto, C8]\n",
              "Name: name, Length: 816, dtype: object"
            ]
          },
          "metadata": {},
          "execution_count": 20
        }
      ]
    },
    {
      "cell_type": "code",
      "metadata": {
        "colab": {
          "base_uri": "https://localhost:8080/"
        },
        "id": "uRwg2hNmx0DK",
        "outputId": "ee177c3f-323a-4e2d-ad36-24063670fa29"
      },
      "source": [
        "car['name'].str.split(' ').str.slice(0,3)"
      ],
      "execution_count": null,
      "outputs": [
        {
          "output_type": "execute_result",
          "data": {
            "text/plain": [
              "0         [Hyundai, Santro, Xing]\n",
              "1         [Mahindra, Jeep, CL550]\n",
              "3           [Hyundai, Grand, i10]\n",
              "4      [Ford, EcoSport, Titanium]\n",
              "6                    [Ford, Figo]\n",
              "                  ...            \n",
              "883        [Maruti, Suzuki, Ritz]\n",
              "885            [Tata, Indica, V2]\n",
              "886      [Toyota, Corolla, Altis]\n",
              "888              [Tata, Zest, XM]\n",
              "889        [Mahindra, Quanto, C8]\n",
              "Name: name, Length: 816, dtype: object"
            ]
          },
          "metadata": {},
          "execution_count": 21
        }
      ]
    },
    {
      "cell_type": "code",
      "metadata": {
        "id": "GNOdpsEHx_Q9"
      },
      "source": [
        "car['name'] = car['name'].str.split(' ').str.slice(0,3).str.join(' ')"
      ],
      "execution_count": null,
      "outputs": []
    },
    {
      "cell_type": "code",
      "metadata": {
        "colab": {
          "base_uri": "https://localhost:8080/",
          "height": 417
        },
        "id": "Fehlr7ztyPAZ",
        "outputId": "117fe2fc-ad9d-450b-bb46-a8d606f78c83"
      },
      "source": [
        "car"
      ],
      "execution_count": null,
      "outputs": [
        {
          "output_type": "execute_result",
          "data": {
            "text/html": [
              "<div>\n",
              "<style scoped>\n",
              "    .dataframe tbody tr th:only-of-type {\n",
              "        vertical-align: middle;\n",
              "    }\n",
              "\n",
              "    .dataframe tbody tr th {\n",
              "        vertical-align: top;\n",
              "    }\n",
              "\n",
              "    .dataframe thead th {\n",
              "        text-align: right;\n",
              "    }\n",
              "</style>\n",
              "<table border=\"1\" class=\"dataframe\">\n",
              "  <thead>\n",
              "    <tr style=\"text-align: right;\">\n",
              "      <th></th>\n",
              "      <th>name</th>\n",
              "      <th>company</th>\n",
              "      <th>year</th>\n",
              "      <th>Price</th>\n",
              "      <th>kms_driven</th>\n",
              "      <th>fuel_type</th>\n",
              "    </tr>\n",
              "  </thead>\n",
              "  <tbody>\n",
              "    <tr>\n",
              "      <th>0</th>\n",
              "      <td>Hyundai Santro Xing</td>\n",
              "      <td>Hyundai</td>\n",
              "      <td>2007</td>\n",
              "      <td>80000</td>\n",
              "      <td>45000</td>\n",
              "      <td>Petrol</td>\n",
              "    </tr>\n",
              "    <tr>\n",
              "      <th>1</th>\n",
              "      <td>Mahindra Jeep CL550</td>\n",
              "      <td>Mahindra</td>\n",
              "      <td>2006</td>\n",
              "      <td>425000</td>\n",
              "      <td>40</td>\n",
              "      <td>Diesel</td>\n",
              "    </tr>\n",
              "    <tr>\n",
              "      <th>3</th>\n",
              "      <td>Hyundai Grand i10</td>\n",
              "      <td>Hyundai</td>\n",
              "      <td>2014</td>\n",
              "      <td>325000</td>\n",
              "      <td>28000</td>\n",
              "      <td>Petrol</td>\n",
              "    </tr>\n",
              "    <tr>\n",
              "      <th>4</th>\n",
              "      <td>Ford EcoSport Titanium</td>\n",
              "      <td>Ford</td>\n",
              "      <td>2014</td>\n",
              "      <td>575000</td>\n",
              "      <td>36000</td>\n",
              "      <td>Diesel</td>\n",
              "    </tr>\n",
              "    <tr>\n",
              "      <th>6</th>\n",
              "      <td>Ford Figo</td>\n",
              "      <td>Ford</td>\n",
              "      <td>2012</td>\n",
              "      <td>175000</td>\n",
              "      <td>41000</td>\n",
              "      <td>Diesel</td>\n",
              "    </tr>\n",
              "    <tr>\n",
              "      <th>...</th>\n",
              "      <td>...</td>\n",
              "      <td>...</td>\n",
              "      <td>...</td>\n",
              "      <td>...</td>\n",
              "      <td>...</td>\n",
              "      <td>...</td>\n",
              "    </tr>\n",
              "    <tr>\n",
              "      <th>883</th>\n",
              "      <td>Maruti Suzuki Ritz</td>\n",
              "      <td>Maruti</td>\n",
              "      <td>2011</td>\n",
              "      <td>270000</td>\n",
              "      <td>50000</td>\n",
              "      <td>Petrol</td>\n",
              "    </tr>\n",
              "    <tr>\n",
              "      <th>885</th>\n",
              "      <td>Tata Indica V2</td>\n",
              "      <td>Tata</td>\n",
              "      <td>2009</td>\n",
              "      <td>110000</td>\n",
              "      <td>30000</td>\n",
              "      <td>Diesel</td>\n",
              "    </tr>\n",
              "    <tr>\n",
              "      <th>886</th>\n",
              "      <td>Toyota Corolla Altis</td>\n",
              "      <td>Toyota</td>\n",
              "      <td>2009</td>\n",
              "      <td>300000</td>\n",
              "      <td>132000</td>\n",
              "      <td>Petrol</td>\n",
              "    </tr>\n",
              "    <tr>\n",
              "      <th>888</th>\n",
              "      <td>Tata Zest XM</td>\n",
              "      <td>Tata</td>\n",
              "      <td>2018</td>\n",
              "      <td>260000</td>\n",
              "      <td>27000</td>\n",
              "      <td>Diesel</td>\n",
              "    </tr>\n",
              "    <tr>\n",
              "      <th>889</th>\n",
              "      <td>Mahindra Quanto C8</td>\n",
              "      <td>Mahindra</td>\n",
              "      <td>2013</td>\n",
              "      <td>390000</td>\n",
              "      <td>40000</td>\n",
              "      <td>Diesel</td>\n",
              "    </tr>\n",
              "  </tbody>\n",
              "</table>\n",
              "<p>816 rows × 6 columns</p>\n",
              "</div>"
            ],
            "text/plain": [
              "                       name   company  year   Price  kms_driven fuel_type\n",
              "0       Hyundai Santro Xing   Hyundai  2007   80000       45000    Petrol\n",
              "1       Mahindra Jeep CL550  Mahindra  2006  425000          40    Diesel\n",
              "3         Hyundai Grand i10   Hyundai  2014  325000       28000    Petrol\n",
              "4    Ford EcoSport Titanium      Ford  2014  575000       36000    Diesel\n",
              "6                 Ford Figo      Ford  2012  175000       41000    Diesel\n",
              "..                      ...       ...   ...     ...         ...       ...\n",
              "883      Maruti Suzuki Ritz    Maruti  2011  270000       50000    Petrol\n",
              "885          Tata Indica V2      Tata  2009  110000       30000    Diesel\n",
              "886    Toyota Corolla Altis    Toyota  2009  300000      132000    Petrol\n",
              "888            Tata Zest XM      Tata  2018  260000       27000    Diesel\n",
              "889      Mahindra Quanto C8  Mahindra  2013  390000       40000    Diesel\n",
              "\n",
              "[816 rows x 6 columns]"
            ]
          },
          "metadata": {},
          "execution_count": 23
        }
      ]
    },
    {
      "cell_type": "markdown",
      "metadata": {
        "id": "_oqUYFM5yVKy"
      },
      "source": [
        "Above we can see our indexes are mismatched or not in a right order so we will just reset the indexes."
      ]
    },
    {
      "cell_type": "code",
      "metadata": {
        "id": "15UzsQoYykX9"
      },
      "source": [
        "car = car.reset_index(drop=True)"
      ],
      "execution_count": null,
      "outputs": []
    },
    {
      "cell_type": "code",
      "metadata": {
        "colab": {
          "base_uri": "https://localhost:8080/",
          "height": 417
        },
        "id": "5FK1utmXy2rf",
        "outputId": "f8809413-d7fb-424c-e78b-6a2a04a8e814"
      },
      "source": [
        "car"
      ],
      "execution_count": null,
      "outputs": [
        {
          "output_type": "execute_result",
          "data": {
            "text/html": [
              "<div>\n",
              "<style scoped>\n",
              "    .dataframe tbody tr th:only-of-type {\n",
              "        vertical-align: middle;\n",
              "    }\n",
              "\n",
              "    .dataframe tbody tr th {\n",
              "        vertical-align: top;\n",
              "    }\n",
              "\n",
              "    .dataframe thead th {\n",
              "        text-align: right;\n",
              "    }\n",
              "</style>\n",
              "<table border=\"1\" class=\"dataframe\">\n",
              "  <thead>\n",
              "    <tr style=\"text-align: right;\">\n",
              "      <th></th>\n",
              "      <th>name</th>\n",
              "      <th>company</th>\n",
              "      <th>year</th>\n",
              "      <th>Price</th>\n",
              "      <th>kms_driven</th>\n",
              "      <th>fuel_type</th>\n",
              "    </tr>\n",
              "  </thead>\n",
              "  <tbody>\n",
              "    <tr>\n",
              "      <th>0</th>\n",
              "      <td>Hyundai Santro Xing</td>\n",
              "      <td>Hyundai</td>\n",
              "      <td>2007</td>\n",
              "      <td>80000</td>\n",
              "      <td>45000</td>\n",
              "      <td>Petrol</td>\n",
              "    </tr>\n",
              "    <tr>\n",
              "      <th>1</th>\n",
              "      <td>Mahindra Jeep CL550</td>\n",
              "      <td>Mahindra</td>\n",
              "      <td>2006</td>\n",
              "      <td>425000</td>\n",
              "      <td>40</td>\n",
              "      <td>Diesel</td>\n",
              "    </tr>\n",
              "    <tr>\n",
              "      <th>2</th>\n",
              "      <td>Hyundai Grand i10</td>\n",
              "      <td>Hyundai</td>\n",
              "      <td>2014</td>\n",
              "      <td>325000</td>\n",
              "      <td>28000</td>\n",
              "      <td>Petrol</td>\n",
              "    </tr>\n",
              "    <tr>\n",
              "      <th>3</th>\n",
              "      <td>Ford EcoSport Titanium</td>\n",
              "      <td>Ford</td>\n",
              "      <td>2014</td>\n",
              "      <td>575000</td>\n",
              "      <td>36000</td>\n",
              "      <td>Diesel</td>\n",
              "    </tr>\n",
              "    <tr>\n",
              "      <th>4</th>\n",
              "      <td>Ford Figo</td>\n",
              "      <td>Ford</td>\n",
              "      <td>2012</td>\n",
              "      <td>175000</td>\n",
              "      <td>41000</td>\n",
              "      <td>Diesel</td>\n",
              "    </tr>\n",
              "    <tr>\n",
              "      <th>...</th>\n",
              "      <td>...</td>\n",
              "      <td>...</td>\n",
              "      <td>...</td>\n",
              "      <td>...</td>\n",
              "      <td>...</td>\n",
              "      <td>...</td>\n",
              "    </tr>\n",
              "    <tr>\n",
              "      <th>811</th>\n",
              "      <td>Maruti Suzuki Ritz</td>\n",
              "      <td>Maruti</td>\n",
              "      <td>2011</td>\n",
              "      <td>270000</td>\n",
              "      <td>50000</td>\n",
              "      <td>Petrol</td>\n",
              "    </tr>\n",
              "    <tr>\n",
              "      <th>812</th>\n",
              "      <td>Tata Indica V2</td>\n",
              "      <td>Tata</td>\n",
              "      <td>2009</td>\n",
              "      <td>110000</td>\n",
              "      <td>30000</td>\n",
              "      <td>Diesel</td>\n",
              "    </tr>\n",
              "    <tr>\n",
              "      <th>813</th>\n",
              "      <td>Toyota Corolla Altis</td>\n",
              "      <td>Toyota</td>\n",
              "      <td>2009</td>\n",
              "      <td>300000</td>\n",
              "      <td>132000</td>\n",
              "      <td>Petrol</td>\n",
              "    </tr>\n",
              "    <tr>\n",
              "      <th>814</th>\n",
              "      <td>Tata Zest XM</td>\n",
              "      <td>Tata</td>\n",
              "      <td>2018</td>\n",
              "      <td>260000</td>\n",
              "      <td>27000</td>\n",
              "      <td>Diesel</td>\n",
              "    </tr>\n",
              "    <tr>\n",
              "      <th>815</th>\n",
              "      <td>Mahindra Quanto C8</td>\n",
              "      <td>Mahindra</td>\n",
              "      <td>2013</td>\n",
              "      <td>390000</td>\n",
              "      <td>40000</td>\n",
              "      <td>Diesel</td>\n",
              "    </tr>\n",
              "  </tbody>\n",
              "</table>\n",
              "<p>816 rows × 6 columns</p>\n",
              "</div>"
            ],
            "text/plain": [
              "                       name   company  year   Price  kms_driven fuel_type\n",
              "0       Hyundai Santro Xing   Hyundai  2007   80000       45000    Petrol\n",
              "1       Mahindra Jeep CL550  Mahindra  2006  425000          40    Diesel\n",
              "2         Hyundai Grand i10   Hyundai  2014  325000       28000    Petrol\n",
              "3    Ford EcoSport Titanium      Ford  2014  575000       36000    Diesel\n",
              "4                 Ford Figo      Ford  2012  175000       41000    Diesel\n",
              "..                      ...       ...   ...     ...         ...       ...\n",
              "811      Maruti Suzuki Ritz    Maruti  2011  270000       50000    Petrol\n",
              "812          Tata Indica V2      Tata  2009  110000       30000    Diesel\n",
              "813    Toyota Corolla Altis    Toyota  2009  300000      132000    Petrol\n",
              "814            Tata Zest XM      Tata  2018  260000       27000    Diesel\n",
              "815      Mahindra Quanto C8  Mahindra  2013  390000       40000    Diesel\n",
              "\n",
              "[816 rows x 6 columns]"
            ]
          },
          "metadata": {},
          "execution_count": 25
        }
      ]
    },
    {
      "cell_type": "code",
      "metadata": {
        "colab": {
          "base_uri": "https://localhost:8080/",
          "height": 295
        },
        "id": "gaRmF4sMy8kP",
        "outputId": "6dcb6162-2dff-43ca-8a58-a9ebd8cb5635"
      },
      "source": [
        "car.describe()"
      ],
      "execution_count": null,
      "outputs": [
        {
          "output_type": "execute_result",
          "data": {
            "text/html": [
              "<div>\n",
              "<style scoped>\n",
              "    .dataframe tbody tr th:only-of-type {\n",
              "        vertical-align: middle;\n",
              "    }\n",
              "\n",
              "    .dataframe tbody tr th {\n",
              "        vertical-align: top;\n",
              "    }\n",
              "\n",
              "    .dataframe thead th {\n",
              "        text-align: right;\n",
              "    }\n",
              "</style>\n",
              "<table border=\"1\" class=\"dataframe\">\n",
              "  <thead>\n",
              "    <tr style=\"text-align: right;\">\n",
              "      <th></th>\n",
              "      <th>year</th>\n",
              "      <th>Price</th>\n",
              "      <th>kms_driven</th>\n",
              "    </tr>\n",
              "  </thead>\n",
              "  <tbody>\n",
              "    <tr>\n",
              "      <th>count</th>\n",
              "      <td>816.000000</td>\n",
              "      <td>8.160000e+02</td>\n",
              "      <td>816.000000</td>\n",
              "    </tr>\n",
              "    <tr>\n",
              "      <th>mean</th>\n",
              "      <td>2012.444853</td>\n",
              "      <td>4.117176e+05</td>\n",
              "      <td>46275.531863</td>\n",
              "    </tr>\n",
              "    <tr>\n",
              "      <th>std</th>\n",
              "      <td>4.002992</td>\n",
              "      <td>4.751844e+05</td>\n",
              "      <td>34297.428044</td>\n",
              "    </tr>\n",
              "    <tr>\n",
              "      <th>min</th>\n",
              "      <td>1995.000000</td>\n",
              "      <td>3.000000e+04</td>\n",
              "      <td>0.000000</td>\n",
              "    </tr>\n",
              "    <tr>\n",
              "      <th>25%</th>\n",
              "      <td>2010.000000</td>\n",
              "      <td>1.750000e+05</td>\n",
              "      <td>27000.000000</td>\n",
              "    </tr>\n",
              "    <tr>\n",
              "      <th>50%</th>\n",
              "      <td>2013.000000</td>\n",
              "      <td>2.999990e+05</td>\n",
              "      <td>41000.000000</td>\n",
              "    </tr>\n",
              "    <tr>\n",
              "      <th>75%</th>\n",
              "      <td>2015.000000</td>\n",
              "      <td>4.912500e+05</td>\n",
              "      <td>56818.500000</td>\n",
              "    </tr>\n",
              "    <tr>\n",
              "      <th>max</th>\n",
              "      <td>2019.000000</td>\n",
              "      <td>8.500003e+06</td>\n",
              "      <td>400000.000000</td>\n",
              "    </tr>\n",
              "  </tbody>\n",
              "</table>\n",
              "</div>"
            ],
            "text/plain": [
              "              year         Price     kms_driven\n",
              "count   816.000000  8.160000e+02     816.000000\n",
              "mean   2012.444853  4.117176e+05   46275.531863\n",
              "std       4.002992  4.751844e+05   34297.428044\n",
              "min    1995.000000  3.000000e+04       0.000000\n",
              "25%    2010.000000  1.750000e+05   27000.000000\n",
              "50%    2013.000000  2.999990e+05   41000.000000\n",
              "75%    2015.000000  4.912500e+05   56818.500000\n",
              "max    2019.000000  8.500003e+06  400000.000000"
            ]
          },
          "metadata": {},
          "execution_count": 26
        }
      ]
    },
    {
      "cell_type": "code",
      "metadata": {
        "colab": {
          "base_uri": "https://localhost:8080/"
        },
        "id": "mN5E7hPV9irZ",
        "outputId": "4f391e84-240c-4960-8814-58d96b1f93e7"
      },
      "source": [
        "car.info()"
      ],
      "execution_count": null,
      "outputs": [
        {
          "output_type": "stream",
          "text": [
            "<class 'pandas.core.frame.DataFrame'>\n",
            "RangeIndex: 816 entries, 0 to 815\n",
            "Data columns (total 6 columns):\n",
            " #   Column      Non-Null Count  Dtype \n",
            "---  ------      --------------  ----- \n",
            " 0   name        816 non-null    object\n",
            " 1   company     816 non-null    object\n",
            " 2   year        816 non-null    int64 \n",
            " 3   Price       816 non-null    int64 \n",
            " 4   kms_driven  816 non-null    int64 \n",
            " 5   fuel_type   816 non-null    object\n",
            "dtypes: int64(3), object(3)\n",
            "memory usage: 38.4+ KB\n"
          ],
          "name": "stdout"
        }
      ]
    },
    {
      "cell_type": "markdown",
      "metadata": {
        "id": "Ys33W4zi-TXc"
      },
      "source": [
        "###**Outliers**"
      ]
    },
    {
      "cell_type": "code",
      "metadata": {
        "colab": {
          "base_uri": "https://localhost:8080/",
          "height": 284
        },
        "id": "t6qWeTG239JW",
        "outputId": "4cd2c0d2-12c9-47dc-86f8-209a23e4d2f4"
      },
      "source": [
        "sns.boxplot(data = car['Price'])\n",
        "plt.title('Price')\n",
        "plt.show()"
      ],
      "execution_count": null,
      "outputs": [
        {
          "output_type": "display_data",
          "data": {
            "image/png": "[encoded data removed]",
            "text/plain": [
              "<Figure size 432x288 with 1 Axes>"
            ]
          },
          "metadata": {
            "needs_background": "light"
          }
        }
      ]
    },
    {
      "cell_type": "code",
      "metadata": {
        "id": "5FZH3ZyT-ahj"
      },
      "source": [
        "car = car[car['Price']<6e6].reset_index(drop=True)"
      ],
      "execution_count": null,
      "outputs": []
    },
    {
      "cell_type": "markdown",
      "metadata": {
        "id": "5TdvDZm1_esL"
      },
      "source": [
        "Here we have removed rows having price above 60 lakhs"
      ]
    },
    {
      "cell_type": "code",
      "metadata": {
        "colab": {
          "base_uri": "https://localhost:8080/",
          "height": 284
        },
        "id": "msxOVDVL_okN",
        "outputId": "f90c4a82-6fb9-487d-f249-ebf38625bda4"
      },
      "source": [
        "sns.boxplot(data = car['Price'])\n",
        "plt.title('Price')\n",
        "plt.show()"
      ],
      "execution_count": null,
      "outputs": [
        {
          "output_type": "display_data",
          "data": {
            "image/png": "[encoded data removed]",
            "text/plain": [
              "<Figure size 432x288 with 1 Axes>"
            ]
          },
          "metadata": {
            "needs_background": "light"
          }
        }
      ]
    },
    {
      "cell_type": "code",
      "metadata": {
        "colab": {
          "base_uri": "https://localhost:8080/",
          "height": 284
        },
        "id": "PNxKqG8j961e",
        "outputId": "5a0fce6b-268f-40bb-e805-ad8477f8ce3e"
      },
      "source": [
        "sns.boxplot(data = car['kms_driven'])\n",
        "plt.title('kms_driven')\n",
        "plt.show()"
      ],
      "execution_count": null,
      "outputs": [
        {
          "output_type": "display_data",
          "data": {
            "image/png": "[encoded data removed]",
            "text/plain": [
              "<Figure size 432x288 with 1 Axes>"
            ]
          },
          "metadata": {
            "needs_background": "light"
          }
        }
      ]
    },
    {
      "cell_type": "code",
      "metadata": {
        "id": "Dt9DFS7nABYS"
      },
      "source": [
        "car = car[car['kms_driven']<3e5]"
      ],
      "execution_count": null,
      "outputs": []
    },
    {
      "cell_type": "code",
      "metadata": {
        "colab": {
          "base_uri": "https://localhost:8080/",
          "height": 284
        },
        "id": "-r5it9OFAO51",
        "outputId": "51de72f8-d99b-41a8-b96b-e37ce0950b00"
      },
      "source": [
        "sns.boxplot(data = car['kms_driven'])\n",
        "plt.title('kms_driven')\n",
        "plt.show()"
      ],
      "execution_count": null,
      "outputs": [
        {
          "output_type": "display_data",
          "data": {
            "image/png": "[encoded data removed]",
            "text/plain": [
              "<Figure size 432x288 with 1 Axes>"
            ]
          },
          "metadata": {
            "needs_background": "light"
          }
        }
      ]
    },
    {
      "cell_type": "code",
      "metadata": {
        "colab": {
          "base_uri": "https://localhost:8080/",
          "height": 284
        },
        "id": "ToCb-mpk9uu-",
        "outputId": "214bfe9c-0bef-45bf-f632-9e6c7b103548"
      },
      "source": [
        "sns.boxplot(data = car['year'])\n",
        "plt.title('year')\n",
        "plt.show()"
      ],
      "execution_count": null,
      "outputs": [
        {
          "output_type": "display_data",
          "data": {
            "image/png": "[encoded data removed]",
            "text/plain": [
              "<Figure size 432x288 with 1 Axes>"
            ]
          },
          "metadata": {
            "needs_background": "light"
          }
        }
      ]
    },
    {
      "cell_type": "markdown",
      "metadata": {
        "id": "XdC6Lc-LA7jN"
      },
      "source": [
        "We will not be handling outliers beacause we want actual data for our model , handling it will effect our model prediction."
      ]
    },
    {
      "cell_type": "code",
      "metadata": {
        "id": "L5KxfDMOGmSt"
      },
      "source": [
        "car = car.reset_index(drop=True)"
      ],
      "execution_count": null,
      "outputs": []
    },
    {
      "cell_type": "markdown",
      "metadata": {
        "id": "EX8l7MewB5L-"
      },
      "source": [
        "###**Visualization**"
      ]
    },
    {
      "cell_type": "code",
      "metadata": {
        "colab": {
          "base_uri": "https://localhost:8080/",
          "height": 276
        },
        "id": "y4m6bEXOBIdi",
        "outputId": "ca6abd24-9370-47b2-8648-6fd7fc5c9ed7"
      },
      "source": [
        "x = car.corr()\n",
        "plt.figure(figsize=(6,4))\n",
        "sns.heatmap(x ,  annot = True)\n",
        "plt.yticks(rotation = 90)\n",
        "plt.show()"
      ],
      "execution_count": null,
      "outputs": [
        {
          "output_type": "display_data",
          "data": {
            "image/png": "[encoded data removed]",
            "text/plain": [
              "<Figure size 432x288 with 2 Axes>"
            ]
          },
          "metadata": {
            "needs_background": "light"
          }
        }
      ]
    },
    {
      "cell_type": "code",
      "metadata": {
        "colab": {
          "base_uri": "https://localhost:8080/",
          "height": 550
        },
        "id": "oXTHkl6xB9LC",
        "outputId": "fa0f23c5-5876-41e3-d2bb-1d66df78a4df"
      },
      "source": [
        "sns.pairplot(data = car)\n",
        "plt.show()"
      ],
      "execution_count": null,
      "outputs": [
        {
          "output_type": "display_data",
          "data": {
            "image/png": "[encoded data removed]",
            "text/plain": [
              "<Figure size 540x540 with 12 Axes>"
            ]
          },
          "metadata": {
            "needs_background": "light"
          }
        }
      ]
    },
    {
      "cell_type": "markdown",
      "metadata": {
        "id": "k2g4ok7aHOhs"
      },
      "source": [
        "###Checking relationship of Company with Price"
      ]
    },
    {
      "cell_type": "code",
      "metadata": {
        "colab": {
          "base_uri": "https://localhost:8080/",
          "height": 499
        },
        "id": "RRTyhLamGc0s",
        "outputId": "85664e8e-1f3f-4444-f4db-591875775508"
      },
      "source": [
        "plt.subplots(figsize=(15,7))\n",
        "ax=sns.boxplot(x='company',y='Price',data=car)\n",
        "ax.set_xticklabels(ax.get_xticklabels(),rotation=40,ha='right')\n",
        "plt.show()"
      ],
      "execution_count": null,
      "outputs": [
        {
          "output_type": "display_data",
          "data": {
            "image/png": "[encoded data removed]",
            "text/plain": [
              "<Figure size 1080x504 with 1 Axes>"
            ]
          },
          "metadata": {
            "needs_background": "light"
          }
        }
      ]
    },
    {
      "cell_type": "markdown",
      "metadata": {
        "id": "7UGy0A9wJDlY"
      },
      "source": [
        "Here we understand that the re-sell prices of Audi, Mitsubishi, Mini, BMW, Mercedes, Land Rover, Jaguar, Volvo are much higher than other cars."
      ]
    },
    {
      "cell_type": "markdown",
      "metadata": {
        "id": "Oir0QllbIFbv"
      },
      "source": [
        "###Checking relationship of Year with Price"
      ]
    },
    {
      "cell_type": "code",
      "metadata": {
        "colab": {
          "base_uri": "https://localhost:8080/",
          "height": 638
        },
        "id": "DXjcZ6uQIHe-",
        "outputId": "df67091f-68a3-4542-ab34-f8b2c1ad0fe8"
      },
      "source": [
        "plt.subplots(figsize=(20,10))\n",
        "ax=sns.swarmplot(x='year',y='Price',data=car)\n",
        "ax.set_xticklabels(ax.get_xticklabels(),rotation=40,ha='right')\n",
        "plt.show()"
      ],
      "execution_count": null,
      "outputs": [
        {
          "output_type": "display_data",
          "data": {
            "image/png": "[encoded data removed]",
            "text/plain": [
              "<Figure size 1440x720 with 1 Axes>"
            ]
          },
          "metadata": {
            "needs_background": "light"
          }
        }
      ]
    },
    {
      "cell_type": "markdown",
      "metadata": {
        "id": "D-AGQ2ueJv2H"
      },
      "source": [
        "Looking at above graph we can analyse that the older the car is less is its re-selling price and the newer the car is more is its re-selling price"
      ]
    },
    {
      "cell_type": "markdown",
      "metadata": {
        "id": "PNapAmdlIO_f"
      },
      "source": [
        "###Checking relationship of kms_driven with Price"
      ]
    },
    {
      "cell_type": "code",
      "metadata": {
        "colab": {
          "base_uri": "https://localhost:8080/",
          "height": 530
        },
        "id": "F2UqscpEIQrV",
        "outputId": "5b6f8c38-57cf-48a0-b853-4ec044b70671"
      },
      "source": [
        "sns.relplot(x='kms_driven',y='Price',data=car,height=7,aspect=1.5)\n",
        "plt.show()"
      ],
      "execution_count": null,
      "outputs": [
        {
          "output_type": "display_data",
          "data": {
            "image/png": "[encoded data removed]",
            "text/plain": [
              "<Figure size 756x504 with 1 Axes>"
            ]
          },
          "metadata": {
            "needs_background": "light"
          }
        }
      ]
    },
    {
      "cell_type": "markdown",
      "metadata": {
        "id": "RH_erpUgKoBa"
      },
      "source": [
        "From the above graph we understand that the price of the car decreases with increase in kms driven."
      ]
    },
    {
      "cell_type": "markdown",
      "metadata": {
        "id": "4s--tQImIhqR"
      },
      "source": [
        "###Checking relationship of Fuel Type with Price"
      ]
    },
    {
      "cell_type": "code",
      "metadata": {
        "colab": {
          "base_uri": "https://localhost:8080/",
          "height": 459
        },
        "id": "DHzhL-wuIi_F",
        "outputId": "7f2b5a73-9347-4047-f9ae-00d4edd90a1d"
      },
      "source": [
        "plt.subplots(figsize=(10,7))\n",
        "sns.boxplot(x='fuel_type',y='Price',data=car)\n",
        "plt.show()"
      ],
      "execution_count": null,
      "outputs": [
        {
          "output_type": "display_data",
          "data": {
            "image/png": "[encoded data removed]",
            "text/plain": [
              "<Figure size 720x504 with 1 Axes>"
            ]
          },
          "metadata": {
            "needs_background": "light"
          }
        }
      ]
    },
    {
      "cell_type": "markdown",
      "metadata": {
        "id": "mdL5aDLQLGVe"
      },
      "source": [
        "Here we understand that the re-sell price of LPG is much less than Petrol and Diesel."
      ]
    },
    {
      "cell_type": "code",
      "metadata": {
        "colab": {
          "base_uri": "https://localhost:8080/",
          "height": 203
        },
        "id": "Rui-r3S3LadQ",
        "outputId": "0658a121-1bfd-4ace-a9e8-dc7003290ed0"
      },
      "source": [
        "car.head()"
      ],
      "execution_count": null,
      "outputs": [
        {
          "output_type": "execute_result",
          "data": {
            "text/html": [
              "<div>\n",
              "<style scoped>\n",
              "    .dataframe tbody tr th:only-of-type {\n",
              "        vertical-align: middle;\n",
              "    }\n",
              "\n",
              "    .dataframe tbody tr th {\n",
              "        vertical-align: top;\n",
              "    }\n",
              "\n",
              "    .dataframe thead th {\n",
              "        text-align: right;\n",
              "    }\n",
              "</style>\n",
              "<table border=\"1\" class=\"dataframe\">\n",
              "  <thead>\n",
              "    <tr style=\"text-align: right;\">\n",
              "      <th></th>\n",
              "      <th>name</th>\n",
              "      <th>company</th>\n",
              "      <th>year</th>\n",
              "      <th>Price</th>\n",
              "      <th>kms_driven</th>\n",
              "      <th>fuel_type</th>\n",
              "    </tr>\n",
              "  </thead>\n",
              "  <tbody>\n",
              "    <tr>\n",
              "      <th>0</th>\n",
              "      <td>Hyundai Santro Xing</td>\n",
              "      <td>Hyundai</td>\n",
              "      <td>2007</td>\n",
              "      <td>80000</td>\n",
              "      <td>45000</td>\n",
              "      <td>Petrol</td>\n",
              "    </tr>\n",
              "    <tr>\n",
              "      <th>1</th>\n",
              "      <td>Mahindra Jeep CL550</td>\n",
              "      <td>Mahindra</td>\n",
              "      <td>2006</td>\n",
              "      <td>425000</td>\n",
              "      <td>40</td>\n",
              "      <td>Diesel</td>\n",
              "    </tr>\n",
              "    <tr>\n",
              "      <th>2</th>\n",
              "      <td>Hyundai Grand i10</td>\n",
              "      <td>Hyundai</td>\n",
              "      <td>2014</td>\n",
              "      <td>325000</td>\n",
              "      <td>28000</td>\n",
              "      <td>Petrol</td>\n",
              "    </tr>\n",
              "    <tr>\n",
              "      <th>3</th>\n",
              "      <td>Ford EcoSport Titanium</td>\n",
              "      <td>Ford</td>\n",
              "      <td>2014</td>\n",
              "      <td>575000</td>\n",
              "      <td>36000</td>\n",
              "      <td>Diesel</td>\n",
              "    </tr>\n",
              "    <tr>\n",
              "      <th>4</th>\n",
              "      <td>Ford Figo</td>\n",
              "      <td>Ford</td>\n",
              "      <td>2012</td>\n",
              "      <td>175000</td>\n",
              "      <td>41000</td>\n",
              "      <td>Diesel</td>\n",
              "    </tr>\n",
              "  </tbody>\n",
              "</table>\n",
              "</div>"
            ],
            "text/plain": [
              "                     name   company  year   Price  kms_driven fuel_type\n",
              "0     Hyundai Santro Xing   Hyundai  2007   80000       45000    Petrol\n",
              "1     Mahindra Jeep CL550  Mahindra  2006  425000          40    Diesel\n",
              "2       Hyundai Grand i10   Hyundai  2014  325000       28000    Petrol\n",
              "3  Ford EcoSport Titanium      Ford  2014  575000       36000    Diesel\n",
              "4               Ford Figo      Ford  2012  175000       41000    Diesel"
            ]
          },
          "metadata": {},
          "execution_count": 42
        }
      ]
    },
    {
      "cell_type": "code",
      "metadata": {
        "id": "cmmTYsxmMhO1"
      },
      "source": [
        "car = car.reset_index(drop=True)"
      ],
      "execution_count": null,
      "outputs": []
    },
    {
      "cell_type": "markdown",
      "metadata": {
        "id": "mtUYH6c3MnDN"
      },
      "source": [
        "###This is our final dataset ->"
      ]
    },
    {
      "cell_type": "code",
      "metadata": {
        "colab": {
          "base_uri": "https://localhost:8080/",
          "height": 203
        },
        "id": "CggfFxSYMLLt",
        "outputId": "41294eb5-7e76-48b2-c0ed-43bbbb6cd9c4"
      },
      "source": [
        "car.head()"
      ],
      "execution_count": null,
      "outputs": [
        {
          "output_type": "execute_result",
          "data": {
            "text/html": [
              "<div>\n",
              "<style scoped>\n",
              "    .dataframe tbody tr th:only-of-type {\n",
              "        vertical-align: middle;\n",
              "    }\n",
              "\n",
              "    .dataframe tbody tr th {\n",
              "        vertical-align: top;\n",
              "    }\n",
              "\n",
              "    .dataframe thead th {\n",
              "        text-align: right;\n",
              "    }\n",
              "</style>\n",
              "<table border=\"1\" class=\"dataframe\">\n",
              "  <thead>\n",
              "    <tr style=\"text-align: right;\">\n",
              "      <th></th>\n",
              "      <th>name</th>\n",
              "      <th>company</th>\n",
              "      <th>year</th>\n",
              "      <th>Price</th>\n",
              "      <th>kms_driven</th>\n",
              "      <th>fuel_type</th>\n",
              "    </tr>\n",
              "  </thead>\n",
              "  <tbody>\n",
              "    <tr>\n",
              "      <th>0</th>\n",
              "      <td>Hyundai Santro Xing</td>\n",
              "      <td>Hyundai</td>\n",
              "      <td>2007</td>\n",
              "      <td>80000</td>\n",
              "      <td>45000</td>\n",
              "      <td>Petrol</td>\n",
              "    </tr>\n",
              "    <tr>\n",
              "      <th>1</th>\n",
              "      <td>Mahindra Jeep CL550</td>\n",
              "      <td>Mahindra</td>\n",
              "      <td>2006</td>\n",
              "      <td>425000</td>\n",
              "      <td>40</td>\n",
              "      <td>Diesel</td>\n",
              "    </tr>\n",
              "    <tr>\n",
              "      <th>2</th>\n",
              "      <td>Hyundai Grand i10</td>\n",
              "      <td>Hyundai</td>\n",
              "      <td>2014</td>\n",
              "      <td>325000</td>\n",
              "      <td>28000</td>\n",
              "      <td>Petrol</td>\n",
              "    </tr>\n",
              "    <tr>\n",
              "      <th>3</th>\n",
              "      <td>Ford EcoSport Titanium</td>\n",
              "      <td>Ford</td>\n",
              "      <td>2014</td>\n",
              "      <td>575000</td>\n",
              "      <td>36000</td>\n",
              "      <td>Diesel</td>\n",
              "    </tr>\n",
              "    <tr>\n",
              "      <th>4</th>\n",
              "      <td>Ford Figo</td>\n",
              "      <td>Ford</td>\n",
              "      <td>2012</td>\n",
              "      <td>175000</td>\n",
              "      <td>41000</td>\n",
              "      <td>Diesel</td>\n",
              "    </tr>\n",
              "  </tbody>\n",
              "</table>\n",
              "</div>"
            ],
            "text/plain": [
              "                     name   company  year   Price  kms_driven fuel_type\n",
              "0     Hyundai Santro Xing   Hyundai  2007   80000       45000    Petrol\n",
              "1     Mahindra Jeep CL550  Mahindra  2006  425000          40    Diesel\n",
              "2       Hyundai Grand i10   Hyundai  2014  325000       28000    Petrol\n",
              "3  Ford EcoSport Titanium      Ford  2014  575000       36000    Diesel\n",
              "4               Ford Figo      Ford  2012  175000       41000    Diesel"
            ]
          },
          "metadata": {},
          "execution_count": 45
        }
      ]
    },
    {
      "cell_type": "code",
      "metadata": {
        "id": "WYbfWBcrK1Hk"
      },
      "source": [
        "car.to_csv('Cleaned_Car_data.csv')"
      ],
      "execution_count": null,
      "outputs": []
    },
    {
      "cell_type": "markdown",
      "metadata": {
        "id": "FMh-OOWNNIB9"
      },
      "source": [
        "##**Modeling ->**"
      ]
    },
    {
      "cell_type": "code",
      "metadata": {
        "id": "N7271CSFNbBU"
      },
      "source": [
        "x = car[['name','company','year','kms_driven','fuel_type']]\n",
        "y = car['Price']"
      ],
      "execution_count": null,
      "outputs": []
    },
    {
      "cell_type": "code",
      "metadata": {
        "id": "TjpDiE5OMd9O"
      },
      "source": [
        "from sklearn.model_selection import train_test_split\n",
        "xtrain, xtest, ytrain, ytest = train_test_split(x, y, test_size=0.3, random_state=0)"
      ],
      "execution_count": null,
      "outputs": []
    },
    {
      "cell_type": "code",
      "metadata": {
        "id": "6Yupw50lWGP9"
      },
      "source": [
        "from sklearn.linear_model import LinearRegression\n",
        "from sklearn.metrics import r2_score\n",
        "from sklearn.preprocessing import OneHotEncoder\n",
        "from sklearn.compose import make_column_transformer\n",
        "from sklearn.pipeline import make_pipeline"
      ],
      "execution_count": null,
      "outputs": []
    },
    {
      "cell_type": "code",
      "metadata": {
        "id": "THTcYvruWfiN",
        "colab": {
          "base_uri": "https://localhost:8080/"
        },
        "outputId": "98c29218-eb5b-4a20-ea2c-39666a68e9c7"
      },
      "source": [
        "ohe = OneHotEncoder()\n",
        "ohe.fit(x[['name','company','fuel_type']])"
      ],
      "execution_count": null,
      "outputs": [
        {
          "output_type": "execute_result",
          "data": {
            "text/plain": [
              "OneHotEncoder(categories='auto', drop=None, dtype=<class 'numpy.float64'>,\n",
              "              handle_unknown='error', sparse=True)"
            ]
          },
          "metadata": {},
          "execution_count": 50
        }
      ]
    },
    {
      "cell_type": "code",
      "metadata": {
        "colab": {
          "base_uri": "https://localhost:8080/"
        },
        "id": "BJdphZn5GqIS",
        "outputId": "9a767d82-e1f2-4625-b661-e9250de331fd"
      },
      "source": [
        "ohe.categories_"
      ],
      "execution_count": null,
      "outputs": [
        {
          "output_type": "execute_result",
          "data": {
            "text/plain": [
              "[array(['Audi A3 Cabriolet', 'Audi A4 1.8', 'Audi A4 2.0', 'Audi A6 2.0',\n",
              "        'Audi A8', 'Audi Q3 2.0', 'Audi Q5 2.0', 'Audi Q7', 'BMW 3 Series',\n",
              "        'BMW 5 Series', 'BMW 7 Series', 'BMW X1', 'BMW X1 sDrive20d',\n",
              "        'BMW X1 xDrive20d', 'Chevrolet Beat', 'Chevrolet Beat Diesel',\n",
              "        'Chevrolet Beat LS', 'Chevrolet Beat LT', 'Chevrolet Beat PS',\n",
              "        'Chevrolet Cruze LTZ', 'Chevrolet Enjoy', 'Chevrolet Enjoy 1.4',\n",
              "        'Chevrolet Sail 1.2', 'Chevrolet Sail UVA', 'Chevrolet Spark',\n",
              "        'Chevrolet Spark 1.0', 'Chevrolet Spark LS', 'Chevrolet Spark LT',\n",
              "        'Chevrolet Tavera LS', 'Chevrolet Tavera Neo', 'Datsun GO T',\n",
              "        'Datsun Go Plus', 'Datsun Redi GO', 'Fiat Linea Emotion',\n",
              "        'Fiat Petra ELX', 'Fiat Punto Emotion', 'Force Motors Force',\n",
              "        'Force Motors One', 'Ford EcoSport', 'Ford EcoSport Ambiente',\n",
              "        'Ford EcoSport Titanium', 'Ford EcoSport Trend',\n",
              "        'Ford Endeavor 4x4', 'Ford Fiesta', 'Ford Fiesta SXi', 'Ford Figo',\n",
              "        'Ford Figo Diesel', 'Ford Figo Duratorq', 'Ford Figo Petrol',\n",
              "        'Ford Fusion 1.4', 'Ford Ikon 1.3', 'Ford Ikon 1.6',\n",
              "        'Hindustan Motors Ambassador', 'Honda Accord', 'Honda Amaze',\n",
              "        'Honda Amaze 1.2', 'Honda Amaze 1.5', 'Honda Brio', 'Honda Brio V',\n",
              "        'Honda Brio VX', 'Honda City', 'Honda City 1.5', 'Honda City SV',\n",
              "        'Honda City VX', 'Honda City ZX', 'Honda Jazz S', 'Honda Jazz VX',\n",
              "        'Honda Mobilio', 'Honda Mobilio S', 'Honda WR V', 'Hyundai Accent',\n",
              "        'Hyundai Accent Executive', 'Hyundai Accent GLE',\n",
              "        'Hyundai Accent GLX', 'Hyundai Creta', 'Hyundai Creta 1.6',\n",
              "        'Hyundai Elantra 1.8', 'Hyundai Elantra SX', 'Hyundai Elite i20',\n",
              "        'Hyundai Eon', 'Hyundai Eon D', 'Hyundai Eon Era',\n",
              "        'Hyundai Eon Magna', 'Hyundai Eon Sportz', 'Hyundai Fluidic Verna',\n",
              "        'Hyundai Getz', 'Hyundai Getz GLE', 'Hyundai Getz Prime',\n",
              "        'Hyundai Grand i10', 'Hyundai Santro', 'Hyundai Santro AE',\n",
              "        'Hyundai Santro Xing', 'Hyundai Sonata Transform', 'Hyundai Verna',\n",
              "        'Hyundai Verna 1.4', 'Hyundai Verna 1.6', 'Hyundai Verna Fluidic',\n",
              "        'Hyundai Verna Transform', 'Hyundai Verna VGT',\n",
              "        'Hyundai Xcent Base', 'Hyundai Xcent SX', 'Hyundai i10',\n",
              "        'Hyundai i10 Era', 'Hyundai i10 Magna', 'Hyundai i10 Sportz',\n",
              "        'Hyundai i20', 'Hyundai i20 Active', 'Hyundai i20 Asta',\n",
              "        'Hyundai i20 Magna', 'Hyundai i20 Select', 'Hyundai i20 Sportz',\n",
              "        'Jaguar XE XE', 'Jaguar XF 2.2', 'Jeep Wrangler Unlimited',\n",
              "        'Land Rover Freelander', 'Mahindra Bolero DI',\n",
              "        'Mahindra Bolero Power', 'Mahindra Bolero SLE',\n",
              "        'Mahindra Jeep CL550', 'Mahindra Jeep MM', 'Mahindra KUV100',\n",
              "        'Mahindra KUV100 K8', 'Mahindra Logan', 'Mahindra Logan Diesel',\n",
              "        'Mahindra Quanto C4', 'Mahindra Quanto C8', 'Mahindra Scorpio',\n",
              "        'Mahindra Scorpio 2.6', 'Mahindra Scorpio LX',\n",
              "        'Mahindra Scorpio S10', 'Mahindra Scorpio S4',\n",
              "        'Mahindra Scorpio SLE', 'Mahindra Scorpio SLX',\n",
              "        'Mahindra Scorpio VLX', 'Mahindra Scorpio Vlx',\n",
              "        'Mahindra Scorpio W', 'Mahindra TUV300 T4', 'Mahindra TUV300 T8',\n",
              "        'Mahindra Thar CRDe', 'Mahindra XUV500', 'Mahindra XUV500 W10',\n",
              "        'Mahindra XUV500 W6', 'Mahindra XUV500 W8', 'Mahindra Xylo D2',\n",
              "        'Mahindra Xylo E4', 'Mahindra Xylo E8', 'Maruti Suzuki 800',\n",
              "        'Maruti Suzuki A', 'Maruti Suzuki Alto', 'Maruti Suzuki Baleno',\n",
              "        'Maruti Suzuki Celerio', 'Maruti Suzuki Ciaz',\n",
              "        'Maruti Suzuki Dzire', 'Maruti Suzuki Eeco',\n",
              "        'Maruti Suzuki Ertiga', 'Maruti Suzuki Esteem',\n",
              "        'Maruti Suzuki Estilo', 'Maruti Suzuki Maruti',\n",
              "        'Maruti Suzuki Omni', 'Maruti Suzuki Ritz', 'Maruti Suzuki S',\n",
              "        'Maruti Suzuki SX4', 'Maruti Suzuki Stingray',\n",
              "        'Maruti Suzuki Swift', 'Maruti Suzuki Versa',\n",
              "        'Maruti Suzuki Vitara', 'Maruti Suzuki Wagon', 'Maruti Suzuki Zen',\n",
              "        'Mercedes Benz A', 'Mercedes Benz B', 'Mercedes Benz C',\n",
              "        'Mercedes Benz GLA', 'Mini Cooper S', 'Mitsubishi Lancer 1.8',\n",
              "        'Mitsubishi Pajero Sport', 'Nissan Micra XL', 'Nissan Micra XV',\n",
              "        'Nissan Sunny', 'Nissan Sunny XL', 'Nissan Terrano XL',\n",
              "        'Nissan X Trail', 'Renault Duster', 'Renault Duster 110',\n",
              "        'Renault Duster 110PS', 'Renault Duster 85', 'Renault Duster 85PS',\n",
              "        'Renault Duster RxL', 'Renault Kwid', 'Renault Kwid 1.0',\n",
              "        'Renault Kwid RXT', 'Renault Lodgy 85', 'Renault Scala RxL',\n",
              "        'Skoda Fabia', 'Skoda Fabia 1.2L', 'Skoda Fabia Classic',\n",
              "        'Skoda Laura', 'Skoda Octavia Classic', 'Skoda Rapid Elegance',\n",
              "        'Skoda Superb 1.8', 'Skoda Yeti Ambition', 'Tata Aria Pleasure',\n",
              "        'Tata Bolt XM', 'Tata Indica', 'Tata Indica V2', 'Tata Indica eV2',\n",
              "        'Tata Indigo CS', 'Tata Indigo LS', 'Tata Indigo LX',\n",
              "        'Tata Indigo Marina', 'Tata Indigo eCS', 'Tata Manza',\n",
              "        'Tata Manza Aqua', 'Tata Manza Aura', 'Tata Manza ELAN',\n",
              "        'Tata Nano', 'Tata Nano Cx', 'Tata Nano GenX', 'Tata Nano LX',\n",
              "        'Tata Nano Lx', 'Tata Sumo Gold', 'Tata Sumo Grande',\n",
              "        'Tata Sumo Victa', 'Tata Tiago Revotorq', 'Tata Tiago Revotron',\n",
              "        'Tata Tigor Revotron', 'Tata Venture EX', 'Tata Vista Quadrajet',\n",
              "        'Tata Zest Quadrajet', 'Tata Zest XE', 'Tata Zest XM',\n",
              "        'Toyota Corolla', 'Toyota Corolla Altis', 'Toyota Corolla H2',\n",
              "        'Toyota Etios', 'Toyota Etios G', 'Toyota Etios GD',\n",
              "        'Toyota Etios Liva', 'Toyota Fortuner', 'Toyota Fortuner 3.0',\n",
              "        'Toyota Innova 2.0', 'Toyota Innova 2.5', 'Toyota Qualis',\n",
              "        'Volkswagen Jetta Comfortline', 'Volkswagen Jetta Highline',\n",
              "        'Volkswagen Passat Diesel', 'Volkswagen Polo',\n",
              "        'Volkswagen Polo Comfortline', 'Volkswagen Polo Highline',\n",
              "        'Volkswagen Polo Highline1.2L', 'Volkswagen Polo Trendline',\n",
              "        'Volkswagen Vento Comfortline', 'Volkswagen Vento Highline',\n",
              "        'Volkswagen Vento Konekt', 'Volvo S80 Summum'], dtype=object),\n",
              " array(['Audi', 'BMW', 'Chevrolet', 'Datsun', 'Fiat', 'Force', 'Ford',\n",
              "        'Hindustan', 'Honda', 'Hyundai', 'Jaguar', 'Jeep', 'Land',\n",
              "        'Mahindra', 'Maruti', 'Mercedes', 'Mini', 'Mitsubishi', 'Nissan',\n",
              "        'Renault', 'Skoda', 'Tata', 'Toyota', 'Volkswagen', 'Volvo'],\n",
              "       dtype=object),\n",
              " array(['Diesel', 'LPG', 'Petrol'], dtype=object)]"
            ]
          },
          "metadata": {},
          "execution_count": 56
        }
      ]
    },
    {
      "cell_type": "code",
      "metadata": {
        "id": "lq5OzHD_FoJp"
      },
      "source": [
        "column_trans = make_column_transformer((OneHotEncoder(categories=ohe.categories_),['name','company','fuel_type']), remainder='passthrough')"
      ],
      "execution_count": null,
      "outputs": []
    },
    {
      "cell_type": "code",
      "metadata": {
        "id": "e9eMRs7yGLfZ"
      },
      "source": [
        "lr = LinearRegression()"
      ],
      "execution_count": null,
      "outputs": []
    },
    {
      "cell_type": "code",
      "metadata": {
        "id": "R9RdEP-UGPq9"
      },
      "source": [
        "pipe = make_pipeline(column_trans,lr)"
      ],
      "execution_count": null,
      "outputs": []
    },
    {
      "cell_type": "code",
      "metadata": {
        "colab": {
          "base_uri": "https://localhost:8080/"
        },
        "id": "vRH6Rf-8GYU_",
        "outputId": "0e12482f-0cc4-4fdf-e4f5-15b5ba8c6ae0"
      },
      "source": [
        "pipe.fit(xtrain, ytrain)"
      ],
      "execution_count": null,
      "outputs": [
        {
          "output_type": "execute_result",
          "data": {
            "text/plain": [
              "Pipeline(memory=None,\n",
              "         steps=[('columntransformer',\n",
              "                 ColumnTransformer(n_jobs=None, remainder='passthrough',\n",
              "                                   sparse_threshold=0.3,\n",
              "                                   transformer_weights=None,\n",
              "                                   transformers=[('onehotencoder',\n",
              "                                                  OneHotEncoder(categories=[array(['Audi A3 Cabriolet', 'Audi A4 1.8', 'Audi A4 2.0', 'Audi A6 2.0',\n",
              "       'Audi A8', 'Audi Q3 2.0', 'Audi Q5 2.0', 'Audi Q7', 'BMW 3 Series',\n",
              "       'BMW 5 Series', 'BMW 7 Series', 'B...\n",
              "       'Renault', 'Skoda', 'Tata', 'Toyota', 'Volkswagen', 'Volvo'],\n",
              "      dtype=object),\n",
              "                                                                            array(['Diesel', 'LPG', 'Petrol'], dtype=object)],\n",
              "                                                                drop=None,\n",
              "                                                                dtype=<class 'numpy.float64'>,\n",
              "                                                                handle_unknown='error',\n",
              "                                                                sparse=True),\n",
              "                                                  ['name', 'company',\n",
              "                                                   'fuel_type'])],\n",
              "                                   verbose=False)),\n",
              "                ('linearregression',\n",
              "                 LinearRegression(copy_X=True, fit_intercept=True, n_jobs=None,\n",
              "                                  normalize=False))],\n",
              "         verbose=False)"
            ]
          },
          "metadata": {},
          "execution_count": 60
        }
      ]
    },
    {
      "cell_type": "code",
      "metadata": {
        "id": "0TIcizpvHI9E"
      },
      "source": [
        "ypred = pipe.predict(xtest)"
      ],
      "execution_count": null,
      "outputs": []
    },
    {
      "cell_type": "code",
      "metadata": {
        "colab": {
          "base_uri": "https://localhost:8080/"
        },
        "id": "q5DQ0_WyHN3L",
        "outputId": "33325606-5ed0-453e-e79c-df4cd82d29de"
      },
      "source": [
        "r2_score(ytest,ypred)"
      ],
      "execution_count": null,
      "outputs": [
        {
          "output_type": "execute_result",
          "data": {
            "text/plain": [
              "0.7538016960110147"
            ]
          },
          "metadata": {},
          "execution_count": 63
        }
      ]
    },
    {
      "cell_type": "markdown",
      "metadata": {
        "id": "CdwYEJCCHwk-"
      },
      "source": [
        "Now this accuracy is very less , so we will pass 1000 random_state to our train_test_split to get best accuracy."
      ]
    },
    {
      "cell_type": "code",
      "metadata": {
        "id": "JtyHnK_LIRVv"
      },
      "source": [
        "scores=[]\n",
        "for i in range(1000):\n",
        "    xtrain,xtest,ytrain,ytest=train_test_split(x,y,test_size=0.3,random_state=i)\n",
        "    lr=LinearRegression()\n",
        "    pipe=make_pipeline(column_trans,lr)\n",
        "    pipe.fit(xtrain,ytrain)\n",
        "    ypred=pipe.predict(xtest)\n",
        "    scores.append(r2_score(ytest,ypred))"
      ],
      "execution_count": null,
      "outputs": []
    },
    {
      "cell_type": "code",
      "metadata": {
        "colab": {
          "base_uri": "https://localhost:8080/"
        },
        "id": "Qd8zZNR0I4fm",
        "outputId": "fb3efcd7-7057-4606-e1f1-9bd7924d5481"
      },
      "source": [
        "np.argmax(scores)"
      ],
      "execution_count": null,
      "outputs": [
        {
          "output_type": "execute_result",
          "data": {
            "text/plain": [
              "433"
            ]
          },
          "metadata": {},
          "execution_count": 65
        }
      ]
    },
    {
      "cell_type": "code",
      "metadata": {
        "colab": {
          "base_uri": "https://localhost:8080/"
        },
        "id": "EmpUmEPcI81F",
        "outputId": "0c3e3eca-ad95-46e5-b844-2adb155460fe"
      },
      "source": [
        "scores[np.argmax(scores)]"
      ],
      "execution_count": null,
      "outputs": [
        {
          "output_type": "execute_result",
          "data": {
            "text/plain": [
              "0.850866899225511"
            ]
          },
          "metadata": {},
          "execution_count": 66
        }
      ]
    },
    {
      "cell_type": "code",
      "metadata": {
        "colab": {
          "base_uri": "https://localhost:8080/"
        },
        "id": "3zVqVS50IAzA",
        "outputId": "8a88a025-a5f9-4725-f57c-520215215f96"
      },
      "source": [
        "xtrain,xtest,ytrain,ytest=train_test_split(x,y,test_size=0.3,random_state=np.argmax(scores))\n",
        "lr=LinearRegression()\n",
        "pipe=make_pipeline(column_trans,lr)\n",
        "pipe.fit(xtrain,ytrain)\n",
        "ypred=pipe.predict(xtest)\n",
        "r2_score(ytest,ypred)"
      ],
      "execution_count": null,
      "outputs": [
        {
          "output_type": "execute_result",
          "data": {
            "text/plain": [
              "0.850866899225511"
            ]
          },
          "metadata": {},
          "execution_count": 67
        }
      ]
    },
    {
      "cell_type": "markdown",
      "metadata": {
        "id": "Fkzf86RWJcFR"
      },
      "source": [
        "Now , we are getting **85%** accuracy"
      ]
    },
    {
      "cell_type": "code",
      "metadata": {
        "id": "8iPyACENJdYs"
      },
      "source": [
        "import pickle"
      ],
      "execution_count": null,
      "outputs": []
    },
    {
      "cell_type": "code",
      "metadata": {
        "id": "AIoTR12pJoZC"
      },
      "source": [
        "pickle.dump(pipe, open('LinearReg.pkl','wb'))"
      ],
      "execution_count": null,
      "outputs": []
    },
    {
      "cell_type": "code",
      "metadata": {
        "colab": {
          "base_uri": "https://localhost:8080/"
        },
        "id": "IU8vYSZ_J_g_",
        "outputId": "023deda8-d1ac-4e3b-9687-5592f3a6ac2e"
      },
      "source": [
        "pipe.predict(pd.DataFrame([['Maruti Suzuki Swift','Maruti',2019,100,'Petrol']],columns=['name','company','year','kms_driven','fuel_type']))"
      ],
      "execution_count": null,
      "outputs": [
        {
          "output_type": "execute_result",
          "data": {
            "text/plain": [
              "array([436471.75935922])"
            ]
          },
          "metadata": {},
          "execution_count": 72
        }
      ]
    },
    {
      "cell_type": "code",
      "metadata": {
        "id": "v2lx16I7a-mx"
      },
      "source": [
        "from sklearn.ensemble import RandomForestRegressor"
      ],
      "execution_count": null,
      "outputs": []
    },
    {
      "cell_type": "code",
      "metadata": {
        "colab": {
          "base_uri": "https://localhost:8080/"
        },
        "id": "dBbYCp47a_-2",
        "outputId": "64325cec-2863-4fda-9a73-c082a7f064f6"
      },
      "source": [
        "rf = RandomForestRegressor()\n",
        "pipe = make_pipeline(column_trans,rf)\n",
        "pipe.fit(xtrain, ytrain)\n",
        "ypred_rf = pipe.predict(xtest)\n",
        "r2_score(ytest,ypred_rf)"
      ],
      "execution_count": null,
      "outputs": [
        {
          "output_type": "execute_result",
          "data": {
            "text/plain": [
              "0.7029833350102254"
            ]
          },
          "metadata": {},
          "execution_count": 99
        }
      ]
    },
    {
      "cell_type": "code",
      "metadata": {
        "id": "CKHvfQ84dXO9"
      },
      "source": [
        "!pip install catboost"
      ],
      "execution_count": null,
      "outputs": []
    },
    {
      "cell_type": "code",
      "metadata": {
        "id": "XYbuf-T9eexF"
      },
      "source": [
        "from catboost import CatBoostRegressor"
      ],
      "execution_count": null,
      "outputs": []
    },
    {
      "cell_type": "code",
      "metadata": {
        "id": "Bue9A7BNelsi"
      },
      "source": [
        "cat = CatBoostRegressor(eval_metric =\"AUC\")\n",
        "pipe = make_pipeline(column_trans,cat)\n",
        "pipe.fit(xtrain, ytrain)\n",
        "ypred_cat = pipe.predict(xtest)"
      ],
      "execution_count": null,
      "outputs": []
    },
    {
      "cell_type": "code",
      "metadata": {
        "colab": {
          "base_uri": "https://localhost:8080/"
        },
        "id": "H3NzLUv-fLq8",
        "outputId": "4f73fa63-2ea6-4197-d91d-54ad9a5d13d6"
      },
      "source": [
        "r2_score(ytest,ypred_cat)"
      ],
      "execution_count": null,
      "outputs": [
        {
          "output_type": "execute_result",
          "data": {
            "text/plain": [
              "0.7127945981247712"
            ]
          },
          "metadata": {},
          "execution_count": 92
        }
      ]
    },
    {
      "cell_type": "code",
      "metadata": {
        "id": "fwV4jbo2g8ot"
      },
      "source": [
        ""
      ],
      "execution_count": null,
      "outputs": []
    }
  ]
}